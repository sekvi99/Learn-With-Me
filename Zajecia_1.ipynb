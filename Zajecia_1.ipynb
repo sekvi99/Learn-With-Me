{
  "nbformat": 4,
  "nbformat_minor": 0,
  "metadata": {
    "colab": {
      "provenance": []
    },
    "kernelspec": {
      "name": "python3",
      "display_name": "Python 3"
    },
    "language_info": {
      "name": "python"
    }
  },
  "cells": [
    {
      "cell_type": "code",
      "source": [
        "import shutil\n",
        "shutil.rmtree('sample_data')"
      ],
      "metadata": {
        "id": "qxLLqGNOxYwn"
      },
      "execution_count": null,
      "outputs": []
    },
    {
      "cell_type": "markdown",
      "source": [
        "**Google Colaboratory shortcuts**\n",
        "1. ctrl + m + a -> Create new code cell above the one that is being used right now,\n",
        "2. ctrl + m + b -> Create new code cell below the one that is being used right now,\n",
        "3. ctrl + m + m -> Change the type of current cell to **Markdown**,\n",
        "4. ctrl + m + y -> Change tht type of current cell to Code,\n",
        "5. ctrl + m + d -> Delete the current cell.\n"
      ],
      "metadata": {
        "id": "4VC_WQJB5t_o"
      }
    },
    {
      "cell_type": "markdown",
      "source": [
        "**Markdown - basic syntax**\n",
        "1. Bolded Text - ****\n",
        "2. Italic Text - **\n",
        "3. Crossed Text - ~~~~\n",
        "4. Header - #\n",
        "5. Skip to other line - \\\n",
        "\n",
        "\n",
        "Other Markdown: https://blog.nayma.pl/podstawy-markdown/"
      ],
      "metadata": {
        "id": "pAMvkGS1618n"
      }
    },
    {
      "cell_type": "markdown",
      "source": [
        "# Basic Python Tasks - Clean Python"
      ],
      "metadata": {
        "id": "QR1PVjyw8akI"
      }
    },
    {
      "cell_type": "markdown",
      "source": [
        "Why you're supposed to use decimal types in Python?\\\n",
        "https://zetcode.com/python/decimal/ \\\n",
        "https://www.youtube.com/watch?v=2ZcqUXcb90k&ab_channel=MasterCodeOnline"
      ],
      "metadata": {
        "id": "k871Yg1rtXkA"
      }
    },
    {
      "cell_type": "code",
      "source": [
        "from decimal import *"
      ],
      "metadata": {
        "id": "et0PbIlztR8l"
      },
      "execution_count": null,
      "outputs": []
    },
    {
      "cell_type": "code",
      "source": [
        "# Using not decimal types -> autodefined types by Python\n",
        "a = 0.2\n",
        "b = 0.1\n",
        "print(a+b)"
      ],
      "metadata": {
        "colab": {
          "base_uri": "https://localhost:8080/"
        },
        "id": "qi2fiBELtrkp",
        "outputId": "d873502a-9e3d-46cf-c3c6-652006d168d9"
      },
      "execution_count": null,
      "outputs": [
        {
          "output_type": "stream",
          "name": "stdout",
          "text": [
            "0.30000000000000004\n"
          ]
        }
      ]
    },
    {
      "cell_type": "code",
      "source": [
        "# Using decimal\n",
        "getcontext().prec = 1\n",
        "result = Decimal(0.2) + Decimal(0.1)\n",
        "print(result)"
      ],
      "metadata": {
        "colab": {
          "base_uri": "https://localhost:8080/"
        },
        "id": "GhYat3ButzGo",
        "outputId": "10f92619-9cc9-48f1-88a7-632e58f1e68a"
      },
      "execution_count": null,
      "outputs": [
        {
          "output_type": "stream",
          "name": "stdout",
          "text": [
            "0.3\n"
          ]
        }
      ]
    },
    {
      "cell_type": "markdown",
      "source": [
        "As u can see **Decimal** types provide better accuracy while doing tasks."
      ],
      "metadata": {
        "id": "2H12MWtcuXN2"
      }
    },
    {
      "cell_type": "markdown",
      "source": [
        "**Task 0**\\\n",
        "Write a function that will calculate area and volume of a cylinder.\\\n",
        "Pc = 2*π*r<sup>2</sup> + 2*π*r*H \\\n",
        "V = π*r<sup>2</sup>H\\\n",
        "Remember about variable validation.\\\n",
        "While variables are wrong passed as wrong type -> return None and print propper message."
      ],
      "metadata": {
        "id": "q4sO2TgaJDDU"
      }
    },
    {
      "cell_type": "code",
      "source": [
        "def calculate_area_and_volume(radius: float, height: float) -> list:\n",
        "  import math\n",
        "  if type(radius) is not str and type(height) is not str and radius > 0 and height > 0:\n",
        "    area = round(2*math.pi*math.pow(radius, 2) + 2*math.pi*radius*height, 2)\n",
        "    volume = round(math.pi*math.pow(radius,2)*height, 2)\n",
        "    return [area, volume]\n",
        "  else:\n",
        "    return None\n",
        "    print(f'Provided variables are not accurate: {radius}, {height}')"
      ],
      "metadata": {
        "id": "3Zys0oMfJGb7"
      },
      "execution_count": null,
      "outputs": []
    },
    {
      "cell_type": "markdown",
      "source": [
        "**Results**\\\n",
        "calculate_area_and_volume(3, 5) -> [150.8, 141.37]\\\n",
        "calculate_area_and_volume(4.5, 7.5) -> [339.29, 477.13]\\ \n",
        "calculate_area_and_volume('3', 5) -> None\\\n",
        "calculate_area_and_volume(-3, -5) -> None\\\n",
        "calculate_area_and_volume(-4, '5') -> None"
      ],
      "metadata": {
        "id": "ZJxLNwxMtCEW"
      }
    },
    {
      "cell_type": "code",
      "source": [
        "results_1 = calculate_area_and_volume(3, 5)\n",
        "results_2 = calculate_area_and_volume(4.5, 7.5)\n",
        "results_3 = calculate_area_and_volume('3', 5)\n",
        "results_4 = calculate_area_and_volume(-3, -5)\n",
        "results_5 =  calculate_area_and_volume(-4, '5')\n",
        "\n",
        "print(results_1)\n",
        "print(results_2)\n",
        "print(results_3)\n",
        "print(results_4)\n",
        "print(results_5)"
      ],
      "metadata": {
        "colab": {
          "base_uri": "https://localhost:8080/"
        },
        "id": "qcEF21-Av2Uf",
        "outputId": "52b5dbf3-f3af-4b79-8550-d5170cd43c15"
      },
      "execution_count": null,
      "outputs": [
        {
          "output_type": "stream",
          "name": "stdout",
          "text": [
            "[150.8, 141.37]\n",
            "[339.29, 477.13]\n",
            "None\n",
            "None\n",
            "None\n"
          ]
        }
      ]
    },
    {
      "cell_type": "markdown",
      "source": [
        "**Task 1**\\\n",
        "Write a function that will check whether the given number is Prime or Not.\\\n",
        "Return bool type variable based on calculated solution.\\\n",
        "If user input wasn't accurate return False and print propper message.\\\n",
        "Remember about code optimalization."
      ],
      "metadata": {
        "id": "KmSdOgkp8Yfn"
      }
    },
    {
      "cell_type": "code",
      "source": [
        "def IsPrime(number: int) -> bool:\n",
        "  import math\n",
        "  if type(number) is not int: # if isintance(number, int): -> works either\n",
        "    print(f'Provided variable type: {type(number)} - Not accurate for function')\n",
        "    return False\n",
        "  else:\n",
        "    if number <= 1:\n",
        "      print('Prime Number can  not be lower or equal 1')\n",
        "      return False\n",
        "    else:\n",
        "      for i in range(2, int(math.sqrt(number))+1):\n",
        "        if number % i == 0:\n",
        "          return False\n",
        "      return True"
      ],
      "metadata": {
        "id": "yqXkMOoa8i4-"
      },
      "execution_count": null,
      "outputs": []
    },
    {
      "cell_type": "markdown",
      "source": [
        "**Propper Results**:\\\n",
        "IsPrime(5) -> True\\\n",
        "IsPrime(8) -> False\\\n",
        "IsPrime('5') -> False\\\n",
        "IsPrime(8.5) -> False"
      ],
      "metadata": {
        "id": "Wj7k-3dI_Csf"
      }
    },
    {
      "cell_type": "code",
      "source": [
        "result_1 = IsPrime(5)\n",
        "print(f'Czy 5 jest liczba pierwsza? {result_1}')\n",
        "\n",
        "result_2 = IsPrime(8)\n",
        "print(f'Czy 8 jest liczba pierwsza? {result_2}')\n",
        "\n",
        "print(IsPrime('5'))\n",
        "print(IsPrime(8.5))"
      ],
      "metadata": {
        "colab": {
          "base_uri": "https://localhost:8080/"
        },
        "id": "RN_xF-bq_BW1",
        "outputId": "7325b7a5-418e-4d38-8ff7-b48316a3bf03"
      },
      "execution_count": null,
      "outputs": [
        {
          "output_type": "stream",
          "name": "stdout",
          "text": [
            "Czy 5 jest liczba pierwsza? True\n",
            "Czy 8 jest liczba pierwsza? False\n",
            "Provided variable type: <class 'str'> - Not accurate for function\n",
            "False\n",
            "Provided variable type: <class 'float'> - Not accurate for function\n",
            "False\n"
          ]
        }
      ]
    },
    {
      "cell_type": "markdown",
      "source": [
        "**Task 2**\\\n",
        "Write a function that will calculate whether two numbers are co-prime to each other or not.\\\n",
        "**Two Numbers are co-prime to each other, only if they both share 1 as their common divider.**\\\n",
        "If user input wasn't accurate return False and print propper message.\\\n",
        "Remember about code optimalization."
      ],
      "metadata": {
        "id": "Ph8MwhbS-lMn"
      }
    },
    {
      "cell_type": "code",
      "source": [
        "def returnDividers(number: int) -> list:\n",
        "  return [i for i in range(1, number + 1) if number % i == 0]\n",
        "\n",
        "def areCoPrime(number_1: int, number_2: int) -> bool:\n",
        "  if isinstance(number_1, int) and isinstance(number_2, int) and number_1 > 0 and number_2 > 0:\n",
        "    dividers_1 = returnDividers(number_1)\n",
        "    dividers_2 = returnDividers(number_2)\n",
        "    results = list(set(dividers_1).intersection(dividers_2))\n",
        "    if len(results) == 1:\n",
        "      return True\n",
        "  return False"
      ],
      "metadata": {
        "id": "1jc9tRFO-q7u"
      },
      "execution_count": null,
      "outputs": []
    },
    {
      "cell_type": "markdown",
      "source": [
        "areCoPrime(6, 35) -> True\\\n",
        "areCoPrime(6, 27) -> False\\\n",
        "areCoPrime('6', 35) -> False\\\n",
        "areCoPrime(5.5, 35) -> False\\\n",
        "areCoPrime(5.5, 7.6) -> False\\\n",
        "areCoPrime(-1, 35) -> False"
      ],
      "metadata": {
        "id": "GAiv1uD-E6dE"
      }
    },
    {
      "cell_type": "code",
      "source": [
        "result_1 = areCoPrime(6,35)\n",
        "print(f'Liczby 6 i 35 sa wzglednie pierwsze? {result_1}')\n",
        "\n",
        "result_2 = areCoPrime(6, 27)\n",
        "print(f'Liczby 6 i 26 sa wzglednie pierwsze? {result_2}')\n",
        "\n",
        "print(areCoPrime('6', 35))\n",
        "print(areCoPrime(5.5, 35))\n",
        "print(areCoPrime(5.5, 7.6))\n",
        "print(areCoPrime(-1, 35))"
      ],
      "metadata": {
        "colab": {
          "base_uri": "https://localhost:8080/"
        },
        "id": "C-94379oEyWM",
        "outputId": "7c7746ca-1ca7-4c80-9466-d7ffbe82f9d7"
      },
      "execution_count": null,
      "outputs": [
        {
          "output_type": "stream",
          "name": "stdout",
          "text": [
            "Liczby 6 i 35 sa wzglednie pierwsze? True\n",
            "Liczby 6 i 26 sa wzglednie pierwsze? False\n",
            "False\n",
            "False\n",
            "False\n",
            "False\n"
          ]
        }
      ]
    },
    {
      "cell_type": "markdown",
      "source": [
        "**Task 3**\\\n",
        "Read the given .txt file, calculate sum, median, aritmetic mean of values provided in given file. \\\n",
        "Return list [sum, median, mean]"
      ],
      "metadata": {
        "id": "59rwMDkBHTTT"
      }
    },
    {
      "cell_type": "markdown",
      "source": [
        "Reading values from .txt file: https://www.pythontutorial.net/python-basics/python-read-text-file/"
      ],
      "metadata": {
        "id": "OhPdL54yyFtg"
      }
    },
    {
      "cell_type": "code",
      "source": [
        "def calculate_sum_median_mean() -> list:\n",
        "  single_value = list()\n",
        "  with open('test_text.txt') as f:\n",
        "    content = f.read()\n",
        "    single_value = content\n",
        "  f.close()\n",
        "  values = single_value.split('\\n')\n",
        "  values = [int(value) for value in values]\n",
        "  import numpy as np\n",
        "  mean = np.mean(values)\n",
        "  median = np.median(values)\n",
        "  sum = np.sum(values)\n",
        "  return [sum, median, mean]"
      ],
      "metadata": {
        "id": "zVebTeOyx2US"
      },
      "execution_count": null,
      "outputs": []
    },
    {
      "cell_type": "markdown",
      "source": [
        "**Results**\\\n",
        "calculate_sum_median_mean() -> [166, 6.0, 9.22]"
      ],
      "metadata": {
        "id": "y61KQtnbzfwX"
      }
    },
    {
      "cell_type": "code",
      "source": [
        "calculate_sum_median_mean()"
      ],
      "metadata": {
        "colab": {
          "base_uri": "https://localhost:8080/"
        },
        "id": "CGrGz_MmyMis",
        "outputId": "089c0491-04ae-4acd-e50a-164eb97fff89"
      },
      "execution_count": null,
      "outputs": [
        {
          "output_type": "stream",
          "name": "stdout",
          "text": [
            "[166, 6.0, 9.222222222222221]\n"
          ]
        }
      ]
    },
    {
      "cell_type": "markdown",
      "source": [
        "**Task 4**\\\n",
        "Listen to the video: https://www.youtube.com/watch?v=-OVB5pOZJug&ab_channel=0612TVw%2FNERDfirst \\\n",
        "Solution: https://www.geeksforgeeks.org/python-program-for-binary-insertion-sort/ \\\n",
        "After that try to implement your own version of binary insertion sort algorithm and bubble sort algorithm -> compare time complexity of two implemented algorithms.\\\n",
        "Which one is faster and why?"
      ],
      "metadata": {
        "id": "mjBlb3AELL0_"
      }
    },
    {
      "cell_type": "code",
      "source": [
        "def binarySearch(arr, val, start, end):\n",
        "  pass\n",
        "\n",
        "def insertionSort(list_to_sort: list) -> list:\n",
        "  pass\n",
        "\n",
        "def bubbleSort(list_to_sort: list) -> list:\n",
        "  for i in range(0, len(list_to_sort)):\n",
        "    for j in range(0, len(list_to_sort) - 1):\n",
        "      if list_to_sort[i] < list_to_sort[j]:\n",
        "        temp = list_to_sort[i]\n",
        "        list_to_sort[i] = list_to_sort[j]\n",
        "        list_to_sort[j] = temp\n",
        "  return list_to_sort"
      ],
      "metadata": {
        "id": "KKQAH89xyZCF"
      },
      "execution_count": null,
      "outputs": []
    },
    {
      "cell_type": "markdown",
      "source": [
        "**Result** \\\n",
        "bubbleSort(list_to_sort) -> [-10, -5, 1, 2, 3, 4, 7, 15]\\\n",
        "binarySearch(list_to_sort) -> [-10, -5, 1, 2, 3, 4, 7, 15]"
      ],
      "metadata": {
        "id": "uz3SDivRRAr9"
      }
    },
    {
      "cell_type": "code",
      "source": [
        "list_to_sort = [-5, -10, 3, 1, 2, 7, 15, 4]\n",
        "print(bubbleSort(list_to_sort))"
      ],
      "metadata": {
        "colab": {
          "base_uri": "https://localhost:8080/"
        },
        "id": "xWv32F6uQWd5",
        "outputId": "b50afde5-37c9-40f9-ec1f-7e65a82de1e2"
      },
      "execution_count": null,
      "outputs": [
        {
          "output_type": "stream",
          "name": "stdout",
          "text": [
            "[-10, -5, 1, 2, 3, 4, 7, 15]\n"
          ]
        }
      ]
    },
    {
      "cell_type": "code",
      "source": [],
      "metadata": {
        "id": "2NjT_6JwQca_"
      },
      "execution_count": null,
      "outputs": []
    }
  ]
}